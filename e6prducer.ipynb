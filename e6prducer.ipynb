{
  "nbformat": 4,
  "nbformat_minor": 0,
  "metadata": {
    "colab": {
      "name": "e6prducer.ipynb",
      "provenance": [],
      "collapsed_sections": [],
      "authorship_tag": "ABX9TyONpAY6qfo9wSiDKiun3iyr",
      "include_colab_link": true
    },
    "kernelspec": {
      "name": "python3",
      "display_name": "Python 3"
    }
  },
  "cells": [
    {
      "cell_type": "markdown",
      "metadata": {
        "id": "view-in-github",
        "colab_type": "text"
      },
      "source": [
        "<a href=\"https://colab.research.google.com/github/abishektp/SS-Lab-S5/blob/master/e6prducer.ipynb\" target=\"_parent\"><img src=\"https://colab.research.google.com/assets/colab-badge.svg\" alt=\"Open In Colab\"/></a>"
      ]
    },
    {
      "cell_type": "code",
      "metadata": {
        "id": "YC30lO6mSDi4",
        "outputId": "dd3176e4-0920-4295-c2e6-bdb0d7476b1f",
        "colab": {
          "base_uri": "https://localhost:8080/",
          "height": 498
        }
      },
      "source": [
        "full=0\n",
        "empty=int(input(\"Enter size of buffer:\"))\n",
        "size = empty\n",
        "x,y=0,0\n",
        "mutex=1\n",
        "\n",
        "def wait(s):\n",
        "    s=s-1\n",
        "    return(s)\n",
        "\n",
        "def signal(s):\n",
        "    s=s+1\n",
        "    return(s)\n",
        "\n",
        "def producer():\n",
        "    global full,empty,mutex,x\n",
        "    mutex=wait(mutex)\n",
        "    full=signal(full)\n",
        "    empty=wait(empty)\n",
        "    x=x+1\n",
        "    print(f\"Produced Item {x}\")\n",
        "    mutex=signal(mutex)\n",
        "def consumer():\n",
        "    global full,empty,mutex,y\n",
        "    mutex=wait(mutex)\n",
        "    full=wait(full)\n",
        "    empty=signal(empty)\n",
        "    print(f\"Item {y+1} Consumed \")\n",
        "    y=y+1\n",
        "    mutex=signal(mutex)\n",
        "\n",
        "print(\"---------------------\\n1.Produce \\n2.Consume\\n0.Exit\\n-------------------------\")\n",
        "\n",
        "while(1):\n",
        "    \n",
        "    ch=int(input(\"Enter the choice:\"))\n",
        "    if(ch==1):\n",
        "        if((mutex==1) and (empty!=0)):\n",
        "            producer()\n",
        "        else:\n",
        "            print(\"Buffer is FULL!\")\n",
        "        print(\"{\",end=\"\")\n",
        "        for i in range (full):\n",
        "                print (\"1,\", end=\"\")\n",
        "        print(\"}\\n\")    \n",
        "            \n",
        "        \n",
        "    elif(ch==2):\n",
        "        if((mutex==1) and (full!=0)):\n",
        "            consumer()\n",
        "        else:\n",
        "            print(\"Buffer is Empty!\")\n",
        "        print(\"{\",end=\"\")\n",
        "        for i in range (full):\n",
        "                print (\",1,\", end=\" \")\n",
        "        print(\"}\\n\")    \n",
        "    else:\n",
        "        exit()\n",
        "\n"
      ],
      "execution_count": null,
      "outputs": [
        {
          "output_type": "stream",
          "text": [
            "Enter size of buffer:3\n",
            "---------------------\n",
            "1.Produce \n",
            "2.Consume\n",
            "0.Exit\n",
            "-------------------------\n",
            "Enter the choice:1\n",
            "Produced Item 1\n",
            "{1,}\n",
            "\n",
            "Enter the choice:2\n",
            "Item 1 Consumed \n",
            "{}\n",
            "\n",
            "Enter the choice:1\n",
            "Produced Item 2\n",
            "{1,}\n",
            "\n",
            "Enter the choice:1\n",
            "Produced Item 3\n",
            "{1,1,}\n",
            "\n",
            "Enter the choice:2\n",
            "Item 2 Consumed \n",
            "{,1, }\n",
            "\n"
          ],
          "name": "stdout"
        }
      ]
    }
  ]
}